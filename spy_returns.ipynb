{
 "cells": [
  {
   "cell_type": "code",
   "execution_count": 9,
   "metadata": {},
   "outputs": [],
   "source": [
    "# Import the required libraries and dependencies\n",
    "import pandas as pd\n",
    "import datetime as dt\n",
    "from pathlib import Path\n",
    "from prophet import Prophet\n",
    "import matplotlib.pyplot as plt\n",
    "%matplotlib inline"
   ]
  },
  {
   "cell_type": "code",
   "execution_count": null,
   "metadata": {},
   "outputs": [],
   "source": [
    "# function that takes two parameters (age , investment_amount) and returns a list of [\"yhat_lower\",\"yhat\",\"yhat_upper\"]\n",
    "# you will call read_dataframe function \n",
    "# then you will call close_data_column function\n",
    "# then you call future dataframe function\n",
    "# then you will call forecase and future prediction function\n",
    "# then make a list of [\"yhat_lower\",\"yhat\",\"yhat_upper\"] and return\n"
   ]
  },
  {
   "cell_type": "code",
   "execution_count": null,
   "metadata": {},
   "outputs": [],
   "source": [
    "# def main_funtion(age, investment_amount):\n",
    "    # invetsment amount: cumulative amount*initial amount\n",
    "    # age: retirement - age, or set the retirement age\n",
    "    # return print(\"if you retire at this age you will get this return\")\n",
    "    #choose different types of investments\n",
    "    # risk level determines what portfolio to use when using the read dataframe function "
   ]
  },
  {
   "cell_type": "code",
   "execution_count": 10,
   "metadata": {},
   "outputs": [],
   "source": [
    "# read_dataframe function and read spy.csv from Resources folder\n",
    "def read_dataframe_function():\n",
    "    df = pd.read_csv(Path(\"./Resources/spy.csv\"), index_col=\"Date\", parse_dates=True, infer_datetime_format=True)\n",
    "    df= df[\"Close\"]\n",
    "    df = df.reset_index()\n",
    "    df.columns= [\"ds\",\"y\"]\n",
    "    #display(df.tail())\n",
    "    return df\n",
    "\n",
    "#read_dataframe_function()"
   ]
  },
  {
   "cell_type": "code",
   "execution_count": null,
   "metadata": {},
   "outputs": [],
   "source": [
    "#spy_df = read_dataframe_function()\n",
    "#spy_df"
   ]
  },
  {
   "cell_type": "code",
   "execution_count": null,
   "metadata": {},
   "outputs": [],
   "source": [
    "# keep only close and date column function"
   ]
  },
  {
   "cell_type": "code",
   "execution_count": 11,
   "metadata": {},
   "outputs": [],
   "source": [
    "# make new future dataframe function\n",
    "# 65-age  or ask people what age do you want to retire \n",
    "def future_dataframe(age):\n",
    "    spy_df = read_dataframe_function()\n",
    "    model = Prophet()\n",
    "    model\n",
    "    model.fit(spy_df)\n",
    "    model_df = model.make_future_dataframe(periods=365*(65-age), freq=\"D\")\n",
    "    final_model_df = model.predict(model_df)\n",
    "    #plot = model.plot_components(final_model_df)\n",
    "    final_model_df = final_model_df[[\"yhat_lower\",\"yhat_upper\",\"yhat\",\"ds\"]]\n",
    "    final_model_df = final_model_df.set_index('ds')\n",
    "    #final_model_df = final_model_df.rename(columns = {'yhat_upper': 'best case',\n",
    "    #                                          'yhat_lower':'worst case', \n",
    "    #                                          'yhat':'most likely case'})\n",
    "   \n",
    "    return final_model_df\n",
    "\n",
    "    \n",
    "    "
   ]
  },
  {
   "cell_type": "code",
   "execution_count": null,
   "metadata": {},
   "outputs": [],
   "source": [
    "#prediction_df = future_dataframe(spy_df)\n",
    "#prediction_df\n",
    "#def calculate_returns (prediction_df,age):\n",
    "    #starting_value = prediction_df.iloc[-(65-age)*365:,:]\n",
    "    #print(starting_value)\n",
    "\n",
    "   \n",
    "    #display(final_model_df.head())\n",
    "    #display(final_model_df.tail())"
   ]
  },
  {
   "attachments": {},
   "cell_type": "markdown",
   "metadata": {},
   "source": [
    "#module 11 - Bria"
   ]
  },
  {
   "cell_type": "code",
   "execution_count": 30,
   "metadata": {},
   "outputs": [],
   "source": [
    "def main_funtion(age , investment_amount):\n",
    "    final_df = future_dataframe(age)\n",
    "   # prediction_df = future_dataframe(spy_df)\n",
    "   # best_investment_return= calculate_returns(prediction_df,age)\n",
    "    actual_spy_df = read_dataframe_function()\n",
    "    current_spy_value = round((actual_spy_df[\"y\"].iloc[-1]),2)\n",
    "    print(f\"current spy value is {current_spy_value}\")\n",
    "    spy_value_on_retirement = round((final_df[\"yhat_upper\"].iloc[-1]),2)\n",
    "    print(f\"spy value on retirement is {spy_value_on_retirement}\")\n",
    "    times_gain_in_returns = round((spy_value_on_retirement/current_spy_value),2)\n",
    "    print(f\" times gain in returns  would be : {times_gain_in_returns}\")\n",
    "    total_value_of_investment = round((times_gain_in_returns*investment_amount),2)\n",
    "    print(f\" current investment of {investment_amount} would become : {total_value_of_investment} on the day of retirement\")\n",
    "    #print(return_on_investment)\n",
    "   # print(f\"final values is {((return_on_investment-current_spy_value)/current_spy_value)*100}\")\n",
    "    return total_value_of_investment\n",
    "\n",
    "    "
   ]
  },
  {
   "cell_type": "code",
   "execution_count": 31,
   "metadata": {},
   "outputs": [
    {
     "name": "stderr",
     "output_type": "stream",
     "text": [
      "INFO:prophet:Disabling daily seasonality. Run prophet with daily_seasonality=True to override this.\n",
      "INFO:cmdstanpy:start chain 1\n",
      "INFO:cmdstanpy:finish chain 1\n"
     ]
    },
    {
     "name": "stdout",
     "output_type": "stream",
     "text": [
      "current spy value is 396.26\n",
      "spy value on retirement is 4727.66\n",
      " times gain in returns  would be : 11.93\n",
      " current investment of 10000 would become : 119300.0 on the day of retirement\n"
     ]
    },
    {
     "data": {
      "text/plain": [
       "119300.0"
      ]
     },
     "execution_count": 31,
     "metadata": {},
     "output_type": "execute_result"
    }
   ],
   "source": [
    "main_funtion(42,10000)"
   ]
  }
 ],
 "metadata": {
  "kernelspec": {
   "display_name": "dev",
   "language": "python",
   "name": "python3"
  },
  "language_info": {
   "codemirror_mode": {
    "name": "ipython",
    "version": 3
   },
   "file_extension": ".py",
   "mimetype": "text/x-python",
   "name": "python",
   "nbconvert_exporter": "python",
   "pygments_lexer": "ipython3",
   "version": "3.9.13"
  },
  "orig_nbformat": 4
 },
 "nbformat": 4,
 "nbformat_minor": 2
}
