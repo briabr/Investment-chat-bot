{
 "cells": [
  {
   "cell_type": "code",
   "execution_count": 13,
   "metadata": {},
   "outputs": [],
   "source": [
    "# Import the required libraries and dependencies\n",
    "import pandas as pd\n",
    "import datetime as dt\n",
    "from pathlib import Path\n",
    "from prophet import Prophet\n",
    "import matplotlib.pyplot as plt\n",
    "%matplotlib inline"
   ]
  },
  {
   "cell_type": "code",
   "execution_count": 2,
   "metadata": {},
   "outputs": [],
   "source": [
    "# function that takes two parameters (age , investment_amount) and returns a list of [\"yhat_lower\",\"yhat\",\"yhat_upper\"]\n",
    "# you will call read_dataframe function \n",
    "# then you will call close_data_column function\n",
    "# then you call future dataframe function\n",
    "# then you will call forecase and future prediction function\n",
    "# then make a list of [\"yhat_lower\",\"yhat\",\"yhat_upper\"] and return\n"
   ]
  },
  {
   "cell_type": "code",
   "execution_count": 3,
   "metadata": {},
   "outputs": [],
   "source": [
    "# def main_funtion(age, investment_amount):\n",
    "    # invetsment amount: cumulative amount*initial amount\n",
    "    # age: retirement - age, or set the retirement age\n",
    "    # return print(\"if you retire at this age you will get this return\")\n",
    "    #choose different types of investments\n",
    "    # risk level determines what portfolio to use when using the read dataframe function "
   ]
  },
  {
   "cell_type": "code",
   "execution_count": 70,
   "metadata": {},
   "outputs": [
    {
     "data": {
      "text/html": [
       "<div>\n",
       "<style scoped>\n",
       "    .dataframe tbody tr th:only-of-type {\n",
       "        vertical-align: middle;\n",
       "    }\n",
       "\n",
       "    .dataframe tbody tr th {\n",
       "        vertical-align: top;\n",
       "    }\n",
       "\n",
       "    .dataframe thead th {\n",
       "        text-align: right;\n",
       "    }\n",
       "</style>\n",
       "<table border=\"1\" class=\"dataframe\">\n",
       "  <thead>\n",
       "    <tr style=\"text-align: right;\">\n",
       "      <th></th>\n",
       "      <th>ds</th>\n",
       "      <th>y</th>\n",
       "    </tr>\n",
       "  </thead>\n",
       "  <tbody>\n",
       "    <tr>\n",
       "      <th>0</th>\n",
       "      <td>2014-01-02</td>\n",
       "      <td>154.989548</td>\n",
       "    </tr>\n",
       "    <tr>\n",
       "      <th>1</th>\n",
       "      <td>2014-01-03</td>\n",
       "      <td>154.964035</td>\n",
       "    </tr>\n",
       "    <tr>\n",
       "      <th>2</th>\n",
       "      <td>2014-01-06</td>\n",
       "      <td>154.515045</td>\n",
       "    </tr>\n",
       "    <tr>\n",
       "      <th>3</th>\n",
       "      <td>2014-01-07</td>\n",
       "      <td>155.464020</td>\n",
       "    </tr>\n",
       "    <tr>\n",
       "      <th>4</th>\n",
       "      <td>2014-01-08</td>\n",
       "      <td>155.497864</td>\n",
       "    </tr>\n",
       "    <tr>\n",
       "      <th>...</th>\n",
       "      <td>...</td>\n",
       "      <td>...</td>\n",
       "    </tr>\n",
       "    <tr>\n",
       "      <th>2300</th>\n",
       "      <td>2023-02-22</td>\n",
       "      <td>398.540008</td>\n",
       "    </tr>\n",
       "    <tr>\n",
       "      <th>2301</th>\n",
       "      <td>2023-02-23</td>\n",
       "      <td>400.660004</td>\n",
       "    </tr>\n",
       "    <tr>\n",
       "      <th>2302</th>\n",
       "      <td>2023-02-24</td>\n",
       "      <td>396.380005</td>\n",
       "    </tr>\n",
       "    <tr>\n",
       "      <th>2303</th>\n",
       "      <td>2023-02-27</td>\n",
       "      <td>397.730011</td>\n",
       "    </tr>\n",
       "    <tr>\n",
       "      <th>2304</th>\n",
       "      <td>2023-02-28</td>\n",
       "      <td>396.260010</td>\n",
       "    </tr>\n",
       "  </tbody>\n",
       "</table>\n",
       "<p>2305 rows × 2 columns</p>\n",
       "</div>"
      ],
      "text/plain": [
       "             ds           y\n",
       "0    2014-01-02  154.989548\n",
       "1    2014-01-03  154.964035\n",
       "2    2014-01-06  154.515045\n",
       "3    2014-01-07  155.464020\n",
       "4    2014-01-08  155.497864\n",
       "...         ...         ...\n",
       "2300 2023-02-22  398.540008\n",
       "2301 2023-02-23  400.660004\n",
       "2302 2023-02-24  396.380005\n",
       "2303 2023-02-27  397.730011\n",
       "2304 2023-02-28  396.260010\n",
       "\n",
       "[2305 rows x 2 columns]"
      ]
     },
     "execution_count": 70,
     "metadata": {},
     "output_type": "execute_result"
    }
   ],
   "source": [
    "# read_dataframe function and read spy.csv from Resources folder\n",
    "def read_dataframe_function():\n",
    "    df = pd.read_csv(Path(\"./Resources/spy.csv\"), index_col=\"Date\", parse_dates=True, infer_datetime_format=True)\n",
    "    df= df[\"Close\"]\n",
    "    df = df.reset_index()\n",
    "    df.columns= [\"ds\",\"y\"]\n",
    "    #display(df.tail())\n",
    "    return df\n",
    "\n",
    "#read_dataframe_function()"
   ]
  },
  {
   "cell_type": "code",
   "execution_count": 19,
   "metadata": {},
   "outputs": [],
   "source": [
    "#spy_df = read_dataframe_function()\n",
    "#spy_df"
   ]
  },
  {
   "cell_type": "code",
   "execution_count": 6,
   "metadata": {},
   "outputs": [],
   "source": [
    "# keep only close and date column function"
   ]
  },
  {
   "cell_type": "code",
   "execution_count": 122,
   "metadata": {},
   "outputs": [],
   "source": [
    "# make new future dataframe function\n",
    "# 65-age  or ask people what age do you want to retire \n",
    "def future_dataframe(age):\n",
    "    spy_df = read_dataframe_function()\n",
    "    model = Prophet()\n",
    "    model\n",
    "    model.fit(spy_df)\n",
    "    model_df = model.make_future_dataframe(periods=365*(65-age), freq=\"D\")\n",
    "    final_model_df = model.predict(model_df)\n",
    "    #plot = model.plot_components(final_model_df)\n",
    "    final_model_df = final_model_df[[\"yhat_lower\",\"yhat_upper\",\"yhat\",\"ds\"]]\n",
    "    final_model_df = final_model_df.set_index('ds')\n",
    "    #final_model_df = final_model_df.rename(columns = {'yhat_upper': 'best case',\n",
    "    #                                          'yhat_lower':'worst case', \n",
    "    #                                          'yhat':'most likely case'})\n",
    "   \n",
    "    return final_model_df\n",
    "\n",
    "    \n",
    "    "
   ]
  },
  {
   "cell_type": "code",
   "execution_count": 130,
   "metadata": {},
   "outputs": [],
   "source": [
    "#prediction_df = future_dataframe(spy_df)\n",
    "#prediction_df\n",
    "#def calculate_returns (prediction_df,age):\n",
    "    #starting_value = prediction_df.iloc[-(65-age)*365:,:]\n",
    "    #print(starting_value)\n",
    "\n",
    "   \n",
    "    #display(final_model_df.head())\n",
    "    #display(final_model_df.tail())"
   ]
  },
  {
   "attachments": {},
   "cell_type": "markdown",
   "metadata": {},
   "source": [
    "#module 11 - Bria"
   ]
  },
  {
   "cell_type": "code",
   "execution_count": 161,
   "metadata": {},
   "outputs": [],
   "source": [
    "def main_funtion(age , investment_amount):\n",
    "    final_df = future_dataframe(age)\n",
    "   # prediction_df = future_dataframe(spy_df)\n",
    "   # best_investment_return= calculate_returns(prediction_df,age)\n",
    "    actual_spy_df = read_dataframe_function()\n",
    "    current_spy_value = (actual_spy_df[\"y\"].iloc[-1])\n",
    "    print(f\"current spy value is {current_spy_value}:.2f%\")\n",
    "    spy_value_on_retirement = final_df[\"yhat_upper\"].iloc[-1]\n",
    "    print(f\"spy value on retirement is {spy_value_on_retirement}\")\n",
    "    times_gain_in_returns = spy_value_on_retirement/current_spy_value\n",
    "    print(f\" times gain in returns  would be : {times_gain_in_returns}\")\n",
    "    print(f\" current investment of {investment_amount} would become : {(times_gain_in_returns*investment_amount)} on the day of retirement\")\n",
    "    #print(return_on_investment)\n",
    "   # print(f\"final values is {((return_on_investment-current_spy_value)/current_spy_value)*100}\")\n",
    "    #return prediction_df\n",
    "\n",
    "    "
   ]
  },
  {
   "cell_type": "code",
   "execution_count": 162,
   "metadata": {},
   "outputs": [
    {
     "name": "stderr",
     "output_type": "stream",
     "text": [
      "INFO:prophet:Disabling daily seasonality. Run prophet with daily_seasonality=True to override this.\n",
      "INFO:cmdstanpy:start chain 1\n",
      "INFO:cmdstanpy:finish chain 1\n"
     ]
    },
    {
     "ename": "ValueError",
     "evalue": "Invalid format specifier",
     "output_type": "error",
     "traceback": [
      "\u001b[0;31m---------------------------------------------------------------------------\u001b[0m",
      "\u001b[0;31mValueError\u001b[0m                                Traceback (most recent call last)",
      "\u001b[0;32m/var/folders/bx/v2glt8w947b_lsmck17gtlzh0000gn/T/ipykernel_47742/614903838.py\u001b[0m in \u001b[0;36m<module>\u001b[0;34m\u001b[0m\n\u001b[0;32m----> 1\u001b[0;31m \u001b[0mmain_funtion\u001b[0m\u001b[0;34m(\u001b[0m\u001b[0;36m42\u001b[0m\u001b[0;34m,\u001b[0m\u001b[0;36m10000\u001b[0m\u001b[0;34m)\u001b[0m\u001b[0;34m\u001b[0m\u001b[0;34m\u001b[0m\u001b[0m\n\u001b[0m",
      "\u001b[0;32m/var/folders/bx/v2glt8w947b_lsmck17gtlzh0000gn/T/ipykernel_47742/2157483648.py\u001b[0m in \u001b[0;36mmain_funtion\u001b[0;34m(age, investment_amount)\u001b[0m\n\u001b[1;32m      5\u001b[0m     \u001b[0mactual_spy_df\u001b[0m \u001b[0;34m=\u001b[0m \u001b[0mread_dataframe_function\u001b[0m\u001b[0;34m(\u001b[0m\u001b[0;34m)\u001b[0m\u001b[0;34m\u001b[0m\u001b[0;34m\u001b[0m\u001b[0m\n\u001b[1;32m      6\u001b[0m     \u001b[0mcurrent_spy_value\u001b[0m \u001b[0;34m=\u001b[0m \u001b[0;34m(\u001b[0m\u001b[0mactual_spy_df\u001b[0m\u001b[0;34m[\u001b[0m\u001b[0;34m\"y\"\u001b[0m\u001b[0;34m]\u001b[0m\u001b[0;34m.\u001b[0m\u001b[0miloc\u001b[0m\u001b[0;34m[\u001b[0m\u001b[0;34m-\u001b[0m\u001b[0;36m1\u001b[0m\u001b[0;34m]\u001b[0m\u001b[0;34m)\u001b[0m\u001b[0;34m\u001b[0m\u001b[0;34m\u001b[0m\u001b[0m\n\u001b[0;32m----> 7\u001b[0;31m     \u001b[0mprint\u001b[0m\u001b[0;34m(\u001b[0m\u001b[0;34mf\"current spy value is {current_spy_value:.2f%}\"\u001b[0m\u001b[0;34m)\u001b[0m\u001b[0;34m\u001b[0m\u001b[0;34m\u001b[0m\u001b[0m\n\u001b[0m\u001b[1;32m      8\u001b[0m     \u001b[0mspy_value_on_retirement\u001b[0m \u001b[0;34m=\u001b[0m \u001b[0mfinal_df\u001b[0m\u001b[0;34m[\u001b[0m\u001b[0;34m\"yhat_upper\"\u001b[0m\u001b[0;34m]\u001b[0m\u001b[0;34m.\u001b[0m\u001b[0miloc\u001b[0m\u001b[0;34m[\u001b[0m\u001b[0;34m-\u001b[0m\u001b[0;36m1\u001b[0m\u001b[0;34m]\u001b[0m\u001b[0;34m\u001b[0m\u001b[0;34m\u001b[0m\u001b[0m\n\u001b[1;32m      9\u001b[0m     \u001b[0mprint\u001b[0m\u001b[0;34m(\u001b[0m\u001b[0;34mf\"spy value on retirement is {spy_value_on_retirement}\"\u001b[0m\u001b[0;34m)\u001b[0m\u001b[0;34m\u001b[0m\u001b[0;34m\u001b[0m\u001b[0m\n",
      "\u001b[0;31mValueError\u001b[0m: Invalid format specifier"
     ]
    }
   ],
   "source": [
    "main_funtion(42,10000)"
   ]
  }
 ],
 "metadata": {
  "kernelspec": {
   "display_name": "Python (dev)",
   "language": "python",
   "name": "dev"
  },
  "language_info": {
   "codemirror_mode": {
    "name": "ipython",
    "version": 3
   },
   "file_extension": ".py",
   "mimetype": "text/x-python",
   "name": "python",
   "nbconvert_exporter": "python",
   "pygments_lexer": "ipython3",
   "version": "3.7.13"
  },
  "orig_nbformat": 4,
  "vscode": {
   "interpreter": {
    "hash": "31f2aee4e71d21fbe5cf8b01ff0e069b9275f58929596ceb00d14d90e3e16cd6"
   }
  }
 },
 "nbformat": 4,
 "nbformat_minor": 2
}
